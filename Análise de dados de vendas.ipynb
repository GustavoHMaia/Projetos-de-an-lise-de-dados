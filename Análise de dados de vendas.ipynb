{
 "cells": [
  {
   "cell_type": "code",
   "execution_count": 1,
   "id": "e7a876b4",
   "metadata": {},
   "outputs": [],
   "source": [
    "import pandas as pd\n",
    "import matplotlib.pyplot as plt\n",
    "import numpy as np\n",
    "import seaborn as sns\n",
    "import matplotlib.ticker as ticker"
   ]
  },
  {
   "cell_type": "markdown",
   "id": "b28ebf47",
   "metadata": {},
   "source": [
    "#### Apresentação inicial dos dados"
   ]
  },
  {
   "cell_type": "code",
   "execution_count": 2,
   "id": "b23f5bbc",
   "metadata": {},
   "outputs": [
    {
     "data": {
      "text/html": [
       "<div>\n",
       "<style scoped>\n",
       "    .dataframe tbody tr th:only-of-type {\n",
       "        vertical-align: middle;\n",
       "    }\n",
       "\n",
       "    .dataframe tbody tr th {\n",
       "        vertical-align: top;\n",
       "    }\n",
       "\n",
       "    .dataframe thead th {\n",
       "        text-align: right;\n",
       "    }\n",
       "</style>\n",
       "<table border=\"1\" class=\"dataframe\">\n",
       "  <thead>\n",
       "    <tr style=\"text-align: right;\">\n",
       "      <th></th>\n",
       "      <th>Unnamed: 0</th>\n",
       "      <th>Order ID</th>\n",
       "      <th>Product</th>\n",
       "      <th>Quantity Ordered</th>\n",
       "      <th>Price Each</th>\n",
       "      <th>Order Date</th>\n",
       "      <th>Purchase Address</th>\n",
       "      <th>Month</th>\n",
       "      <th>Sales</th>\n",
       "      <th>City</th>\n",
       "      <th>Hour</th>\n",
       "    </tr>\n",
       "  </thead>\n",
       "  <tbody>\n",
       "    <tr>\n",
       "      <th>0</th>\n",
       "      <td>0</td>\n",
       "      <td>295665</td>\n",
       "      <td>Macbook Pro Laptop</td>\n",
       "      <td>1</td>\n",
       "      <td>1700.00</td>\n",
       "      <td>2019-12-30 00:01:00</td>\n",
       "      <td>136 Church St, New York City, NY 10001</td>\n",
       "      <td>12</td>\n",
       "      <td>1700.00</td>\n",
       "      <td>New York City</td>\n",
       "      <td>0</td>\n",
       "    </tr>\n",
       "    <tr>\n",
       "      <th>1</th>\n",
       "      <td>1</td>\n",
       "      <td>295666</td>\n",
       "      <td>LG Washing Machine</td>\n",
       "      <td>1</td>\n",
       "      <td>600.00</td>\n",
       "      <td>2019-12-29 07:03:00</td>\n",
       "      <td>562 2nd St, New York City, NY 10001</td>\n",
       "      <td>12</td>\n",
       "      <td>600.00</td>\n",
       "      <td>New York City</td>\n",
       "      <td>7</td>\n",
       "    </tr>\n",
       "    <tr>\n",
       "      <th>2</th>\n",
       "      <td>2</td>\n",
       "      <td>295667</td>\n",
       "      <td>USB-C Charging Cable</td>\n",
       "      <td>1</td>\n",
       "      <td>11.95</td>\n",
       "      <td>2019-12-12 18:21:00</td>\n",
       "      <td>277 Main St, New York City, NY 10001</td>\n",
       "      <td>12</td>\n",
       "      <td>11.95</td>\n",
       "      <td>New York City</td>\n",
       "      <td>18</td>\n",
       "    </tr>\n",
       "    <tr>\n",
       "      <th>3</th>\n",
       "      <td>3</td>\n",
       "      <td>295668</td>\n",
       "      <td>27in FHD Monitor</td>\n",
       "      <td>1</td>\n",
       "      <td>149.99</td>\n",
       "      <td>2019-12-22 15:13:00</td>\n",
       "      <td>410 6th St, San Francisco, CA 94016</td>\n",
       "      <td>12</td>\n",
       "      <td>149.99</td>\n",
       "      <td>San Francisco</td>\n",
       "      <td>15</td>\n",
       "    </tr>\n",
       "    <tr>\n",
       "      <th>4</th>\n",
       "      <td>4</td>\n",
       "      <td>295669</td>\n",
       "      <td>USB-C Charging Cable</td>\n",
       "      <td>1</td>\n",
       "      <td>11.95</td>\n",
       "      <td>2019-12-18 12:38:00</td>\n",
       "      <td>43 Hill St, Atlanta, GA 30301</td>\n",
       "      <td>12</td>\n",
       "      <td>11.95</td>\n",
       "      <td>Atlanta</td>\n",
       "      <td>12</td>\n",
       "    </tr>\n",
       "  </tbody>\n",
       "</table>\n",
       "</div>"
      ],
      "text/plain": [
       "   Unnamed: 0  Order ID               Product  Quantity Ordered  Price Each  \\\n",
       "0           0    295665    Macbook Pro Laptop                 1     1700.00   \n",
       "1           1    295666    LG Washing Machine                 1      600.00   \n",
       "2           2    295667  USB-C Charging Cable                 1       11.95   \n",
       "3           3    295668      27in FHD Monitor                 1      149.99   \n",
       "4           4    295669  USB-C Charging Cable                 1       11.95   \n",
       "\n",
       "            Order Date                        Purchase Address  Month  \\\n",
       "0  2019-12-30 00:01:00  136 Church St, New York City, NY 10001     12   \n",
       "1  2019-12-29 07:03:00     562 2nd St, New York City, NY 10001     12   \n",
       "2  2019-12-12 18:21:00    277 Main St, New York City, NY 10001     12   \n",
       "3  2019-12-22 15:13:00     410 6th St, San Francisco, CA 94016     12   \n",
       "4  2019-12-18 12:38:00           43 Hill St, Atlanta, GA 30301     12   \n",
       "\n",
       "     Sales            City  Hour  \n",
       "0  1700.00   New York City     0  \n",
       "1   600.00   New York City     7  \n",
       "2    11.95   New York City    18  \n",
       "3   149.99   San Francisco    15  \n",
       "4    11.95         Atlanta    12  "
      ]
     },
     "execution_count": 2,
     "metadata": {},
     "output_type": "execute_result"
    }
   ],
   "source": [
    "df = pd.read_csv('Sales Data.csv')\n",
    "df.head()\n"
   ]
  },
  {
   "cell_type": "markdown",
   "id": "fb728916",
   "metadata": {},
   "source": [
    "#### Limpeza dos dados"
   ]
  },
  {
   "cell_type": "code",
   "execution_count": 3,
   "id": "c50bd4f7",
   "metadata": {},
   "outputs": [
    {
     "data": {
      "text/plain": [
       "Index(['Unnamed: 0', 'Order ID', 'Product', 'Quantity Ordered', 'Price Each',\n",
       "       'Order Date', 'Purchase Address', 'Month', 'Sales', 'City', 'Hour'],\n",
       "      dtype='object')"
      ]
     },
     "execution_count": 3,
     "metadata": {},
     "output_type": "execute_result"
    }
   ],
   "source": [
    "df.columns"
   ]
  },
  {
   "cell_type": "code",
   "execution_count": 4,
   "id": "de8463d5",
   "metadata": {},
   "outputs": [],
   "source": [
    "df.dropna(inplace= True)\n"
   ]
  },
  {
   "cell_type": "code",
   "execution_count": 5,
   "id": "12bf1fb8",
   "metadata": {},
   "outputs": [
    {
     "data": {
      "text/plain": [
       "False"
      ]
     },
     "execution_count": 5,
     "metadata": {},
     "output_type": "execute_result"
    }
   ],
   "source": [
    "df.isnull().values.any()"
   ]
  },
  {
   "cell_type": "code",
   "execution_count": 6,
   "id": "f027414b",
   "metadata": {},
   "outputs": [],
   "source": [
    "df.drop_duplicates(inplace= True)"
   ]
  },
  {
   "cell_type": "code",
   "execution_count": 7,
   "id": "4f4f595b",
   "metadata": {},
   "outputs": [],
   "source": [
    "df.drop(columns={'Unnamed: 0'}, inplace= True)"
   ]
  },
  {
   "cell_type": "markdown",
   "id": "94ff73b7",
   "metadata": {},
   "source": [
    "#### Ajustando informações da base de dados"
   ]
  },
  {
   "cell_type": "code",
   "execution_count": 8,
   "id": "b9778649",
   "metadata": {},
   "outputs": [],
   "source": [
    "# Traduzindo as variáveis para português\n",
    "df = df.rename(columns={'Order ID': 'ID do pedido', 'Product': 'Produto', 'Quantity Ordered': 'Quantidade encomendada',\n",
    "                   'Price Each': 'Preço unitário', 'Order Date': 'Data do pedido', \n",
    "                   'Purchase Address':'Endereço da compra',\n",
    "                   'Month': 'Mês', 'Sales': 'Vendas', 'City': 'Cidade', 'Hour': 'Hora'})\n"
   ]
  },
  {
   "cell_type": "code",
   "execution_count": 9,
   "id": "f694b7e2",
   "metadata": {},
   "outputs": [],
   "source": [
    "# Alterando as informações das colunas Mês e Data do pedido \n",
    "\n",
    "meses_dict = {1: 'Janeiro', 2: 'Fevereiro', 3: 'Março', 4: 'Abril', 5: 'Maio', 6: 'Junho', \n",
    "              7: 'Julho', 8: 'Agosto', 9: 'Setembro', 10: 'Outubro', 11: 'Novembro', 12: 'Dezembro'}\n",
    "df['Mês'] = df['Mês'].replace(meses_dict)\n"
   ]
  },
  {
   "cell_type": "code",
   "execution_count": 10,
   "id": "cf9bd7b8",
   "metadata": {},
   "outputs": [
    {
     "data": {
      "text/plain": [
       "0         Dezembro\n",
       "1         Dezembro\n",
       "2         Dezembro\n",
       "3         Dezembro\n",
       "4         Dezembro\n",
       "            ...   \n",
       "185945       Junho\n",
       "185946       Junho\n",
       "185947       Junho\n",
       "185948       Junho\n",
       "185949       Junho\n",
       "Name: Mês, Length: 185950, dtype: category\n",
       "Categories (12, object): ['Janeiro' < 'Fevereiro' < 'Março' < 'Abril' ... 'Setembro' < 'Outubro' < 'Novembro' < 'Dezembro']"
      ]
     },
     "execution_count": 10,
     "metadata": {},
     "output_type": "execute_result"
    }
   ],
   "source": [
    "# Transformando as variáveis da coluna Mês em variáveis categóricas\n",
    "meses = ['Janeiro', 'Fevereiro', 'Março', 'Abril', 'Maio', 'Junho', 'Julho', 'Agosto', 'Setembro', 'Outubro', 'Novembro', 'Dezembro']\n",
    "df['Mês'] = pd.Categorical(df['Mês'], categories=meses, ordered=True)\n",
    "df['Mês']"
   ]
  },
  {
   "cell_type": "code",
   "execution_count": 11,
   "id": "1765f067",
   "metadata": {},
   "outputs": [
    {
     "data": {
      "text/html": [
       "<div>\n",
       "<style scoped>\n",
       "    .dataframe tbody tr th:only-of-type {\n",
       "        vertical-align: middle;\n",
       "    }\n",
       "\n",
       "    .dataframe tbody tr th {\n",
       "        vertical-align: top;\n",
       "    }\n",
       "\n",
       "    .dataframe thead th {\n",
       "        text-align: right;\n",
       "    }\n",
       "</style>\n",
       "<table border=\"1\" class=\"dataframe\">\n",
       "  <thead>\n",
       "    <tr style=\"text-align: right;\">\n",
       "      <th></th>\n",
       "      <th>ID do pedido</th>\n",
       "      <th>Produto</th>\n",
       "      <th>Quantidade encomendada</th>\n",
       "      <th>Preço unitário</th>\n",
       "      <th>Data do pedido</th>\n",
       "      <th>Endereço da compra</th>\n",
       "      <th>Mês</th>\n",
       "      <th>Vendas</th>\n",
       "      <th>Cidade</th>\n",
       "      <th>Hora</th>\n",
       "    </tr>\n",
       "  </thead>\n",
       "  <tbody>\n",
       "    <tr>\n",
       "      <th>0</th>\n",
       "      <td>295665</td>\n",
       "      <td>Macbook Pro Laptop</td>\n",
       "      <td>1</td>\n",
       "      <td>1700.00</td>\n",
       "      <td>2019-12-30 00:01:00</td>\n",
       "      <td>136 Church St, New York City, NY 10001</td>\n",
       "      <td>Dezembro</td>\n",
       "      <td>1700.00</td>\n",
       "      <td>New York City</td>\n",
       "      <td>0</td>\n",
       "    </tr>\n",
       "    <tr>\n",
       "      <th>1</th>\n",
       "      <td>295666</td>\n",
       "      <td>LG Washing Machine</td>\n",
       "      <td>1</td>\n",
       "      <td>600.00</td>\n",
       "      <td>2019-12-29 07:03:00</td>\n",
       "      <td>562 2nd St, New York City, NY 10001</td>\n",
       "      <td>Dezembro</td>\n",
       "      <td>600.00</td>\n",
       "      <td>New York City</td>\n",
       "      <td>7</td>\n",
       "    </tr>\n",
       "    <tr>\n",
       "      <th>2</th>\n",
       "      <td>295667</td>\n",
       "      <td>USB-C Charging Cable</td>\n",
       "      <td>1</td>\n",
       "      <td>11.95</td>\n",
       "      <td>2019-12-12 18:21:00</td>\n",
       "      <td>277 Main St, New York City, NY 10001</td>\n",
       "      <td>Dezembro</td>\n",
       "      <td>11.95</td>\n",
       "      <td>New York City</td>\n",
       "      <td>18</td>\n",
       "    </tr>\n",
       "    <tr>\n",
       "      <th>3</th>\n",
       "      <td>295668</td>\n",
       "      <td>27in FHD Monitor</td>\n",
       "      <td>1</td>\n",
       "      <td>149.99</td>\n",
       "      <td>2019-12-22 15:13:00</td>\n",
       "      <td>410 6th St, San Francisco, CA 94016</td>\n",
       "      <td>Dezembro</td>\n",
       "      <td>149.99</td>\n",
       "      <td>San Francisco</td>\n",
       "      <td>15</td>\n",
       "    </tr>\n",
       "    <tr>\n",
       "      <th>4</th>\n",
       "      <td>295669</td>\n",
       "      <td>USB-C Charging Cable</td>\n",
       "      <td>1</td>\n",
       "      <td>11.95</td>\n",
       "      <td>2019-12-18 12:38:00</td>\n",
       "      <td>43 Hill St, Atlanta, GA 30301</td>\n",
       "      <td>Dezembro</td>\n",
       "      <td>11.95</td>\n",
       "      <td>Atlanta</td>\n",
       "      <td>12</td>\n",
       "    </tr>\n",
       "  </tbody>\n",
       "</table>\n",
       "</div>"
      ],
      "text/plain": [
       "   ID do pedido               Produto  Quantidade encomendada  Preço unitário  \\\n",
       "0        295665    Macbook Pro Laptop                       1         1700.00   \n",
       "1        295666    LG Washing Machine                       1          600.00   \n",
       "2        295667  USB-C Charging Cable                       1           11.95   \n",
       "3        295668      27in FHD Monitor                       1          149.99   \n",
       "4        295669  USB-C Charging Cable                       1           11.95   \n",
       "\n",
       "       Data do pedido                      Endereço da compra       Mês  \\\n",
       "0 2019-12-30 00:01:00  136 Church St, New York City, NY 10001  Dezembro   \n",
       "1 2019-12-29 07:03:00     562 2nd St, New York City, NY 10001  Dezembro   \n",
       "2 2019-12-12 18:21:00    277 Main St, New York City, NY 10001  Dezembro   \n",
       "3 2019-12-22 15:13:00     410 6th St, San Francisco, CA 94016  Dezembro   \n",
       "4 2019-12-18 12:38:00           43 Hill St, Atlanta, GA 30301  Dezembro   \n",
       "\n",
       "    Vendas          Cidade  Hora  \n",
       "0  1700.00   New York City     0  \n",
       "1   600.00   New York City     7  \n",
       "2    11.95   New York City    18  \n",
       "3   149.99   San Francisco    15  \n",
       "4    11.95         Atlanta    12  "
      ]
     },
     "execution_count": 11,
     "metadata": {},
     "output_type": "execute_result"
    }
   ],
   "source": [
    "# Transformado a coluna Data do pedido para o formato de data\n",
    "df['Data do pedido'] = pd.to_datetime(df['Data do pedido'])\n",
    "df.head()"
   ]
  },
  {
   "cell_type": "markdown",
   "id": "81cc8d37",
   "metadata": {},
   "source": [
    "### Pergunta 1: Qual foi o melhor mês para vendas? Quanto foi a quantidade adquirida neste mês?"
   ]
  },
  {
   "cell_type": "code",
   "execution_count": 12,
   "id": "846396fe",
   "metadata": {},
   "outputs": [],
   "source": [
    "vpm = df.groupby('Mês')['Vendas'].sum()\n",
    "vpm = pd.DataFrame(vpm)\n",
    "\n",
    "\n",
    "\n"
   ]
  },
  {
   "cell_type": "code",
   "execution_count": 13,
   "id": "5f58d4e8",
   "metadata": {},
   "outputs": [
    {
     "data": {
      "image/png": "[encoded data removed]",
      "text/plain": [
       "<Figure size 640x480 with 1 Axes>"
      ]
     },
     "metadata": {},
     "output_type": "display_data"
    }
   ],
   "source": [
    "vpm.plot(kind='bar', color='orange')\n",
    "plt.ticklabel_format(style='plain', axis='y')\n",
    "plt.xlabel('Meses')\n",
    "plt.ylabel('Em doláres (U$)')\n",
    "plt.title('Total de vendas por cada mês')\n",
    "plt.show()\n",
    "\n"
   ]
  },
  {
   "cell_type": "code",
   "execution_count": null,
   "id": "640fd544",
   "metadata": {},
   "outputs": [],
   "source": []
  },
  {
   "cell_type": "markdown",
   "id": "035919bd",
   "metadata": {},
   "source": [
    "##### O mês de dezembro foi o melhor mês para vendas com a quantidade de 4.613.443 dólares adquiridos."
   ]
  },
  {
   "cell_type": "markdown",
   "id": "720041a2",
   "metadata": {},
   "source": [
    "### Pergunta 2: Qual cidade vendeu mais produtos? E qual vendeu menos produtos?"
   ]
  },
  {
   "cell_type": "code",
   "execution_count": 14,
   "id": "d29d9f88",
   "metadata": {},
   "outputs": [
    {
     "data": {
      "text/plain": [
       "Cidade\n",
       " Atlanta          14881\n",
       " Austin            9905\n",
       " Boston           19934\n",
       " Dallas           14820\n",
       " Los Angeles      29605\n",
       " New York City    24876\n",
       " Portland         12465\n",
       " San Francisco    44732\n",
       " Seattle          14732\n",
       "Name: Quantidade encomendada, dtype: int64"
      ]
     },
     "execution_count": 14,
     "metadata": {},
     "output_type": "execute_result"
    }
   ],
   "source": [
    "# Agrupando a quantidade de produtos vendidos por cada cidade.\n",
    "city = df.groupby('Cidade')['Quantidade encomendada'].count()\n",
    "city"
   ]
  },
  {
   "cell_type": "code",
   "execution_count": 15,
   "id": "6a880dbc",
   "metadata": {},
   "outputs": [
    {
     "data": {
      "image/png": "[encoded data removed]",
      "text/plain": [
       "<Figure size 640x480 with 1 Axes>"
      ]
     },
     "metadata": {},
     "output_type": "display_data"
    }
   ],
   "source": [
    "sns.barplot(y=city.index, x=city).set(title='Qtd. de vendas de produtos por cidade')\n",
    "sns.set_palette('dark')\n"
   ]
  },
  {
   "cell_type": "markdown",
   "id": "2c800daf",
   "metadata": {},
   "source": [
    "##### A cidade de San Francisco obteve a maior quantidade de vendas de produtos.\n",
    "##### A cidade de Austin foi a que vendeu menos produtos.\n"
   ]
  },
  {
   "cell_type": "markdown",
   "id": "e43fb2b6",
   "metadata": {},
   "source": [
    "### Pergunta 3: A que horas devemos exibir anúncios para maximizar a probabilidade de compra do produto pelo cliente?"
   ]
  },
  {
   "cell_type": "code",
   "execution_count": 16,
   "id": "8d0cff5e",
   "metadata": {},
   "outputs": [],
   "source": [
    "# Criando a coluna Minuto para identificarmos a progressão do gráfico de linhas de maneira mais detalhada\n",
    "df['Minuto'] = pd.to_datetime(df['Data do pedido']).dt.minute\n",
    "df['Count'] = 1\n"
   ]
  },
  {
   "cell_type": "code",
   "execution_count": 17,
   "id": "25d9b51f",
   "metadata": {},
   "outputs": [
    {
     "data": {
      "image/png": "[encoded data removed]",
      "text/plain": [
       "<Figure size 640x480 with 1 Axes>"
      ]
     },
     "metadata": {},
     "output_type": "display_data"
    }
   ],
   "source": [
    "keys = [pair for pair, df in df.groupby('Hora')]\n",
    "\n",
    "plt.plot(keys, df.groupby('Hora').count()['Count'])\n",
    "plt.xticks(keys)\n",
    "plt.xlabel('Horas')\n",
    "plt.ylabel('Número de pedidos')\n",
    "plt.title('Qtd. de pedidos por cada momento do dia')\n",
    "plt.grid(True)\n",
    "plt.show()\n"
   ]
  },
  {
   "cell_type": "markdown",
   "id": "7558a222",
   "metadata": {},
   "source": []
  },
  {
   "cell_type": "markdown",
   "id": "44270cef",
   "metadata": {},
   "source": [
    "##### Percebe-se que das 10 horas manhã à 21 horas da noite o gráfico se mantém acima de 10 mil pedidos.\n",
    "##### Portanto, recomendo que os anúncios sejam exibidos entre 10 horas da manhã e 21 horas da noite a fim de maximizar a probabilidade de compra."
   ]
  },
  {
   "cell_type": "markdown",
   "id": "c44653d1",
   "metadata": {},
   "source": [
    "### Pergunta 4: Quais produtos são vendidos juntos com mais frequência?"
   ]
  },
  {
   "cell_type": "code",
   "execution_count": 18,
   "id": "5d983ff6",
   "metadata": {},
   "outputs": [
    {
     "data": {
      "text/html": [
       "<div>\n",
       "<style scoped>\n",
       "    .dataframe tbody tr th:only-of-type {\n",
       "        vertical-align: middle;\n",
       "    }\n",
       "\n",
       "    .dataframe tbody tr th {\n",
       "        vertical-align: top;\n",
       "    }\n",
       "\n",
       "    .dataframe thead th {\n",
       "        text-align: right;\n",
       "    }\n",
       "</style>\n",
       "<table border=\"1\" class=\"dataframe\">\n",
       "  <thead>\n",
       "    <tr style=\"text-align: right;\">\n",
       "      <th></th>\n",
       "      <th>ID do pedido</th>\n",
       "      <th>Produto</th>\n",
       "      <th>Quantidade encomendada</th>\n",
       "      <th>Preço unitário</th>\n",
       "      <th>Data do pedido</th>\n",
       "      <th>Endereço da compra</th>\n",
       "      <th>Mês</th>\n",
       "      <th>Vendas</th>\n",
       "      <th>Cidade</th>\n",
       "      <th>Hora</th>\n",
       "      <th>Minuto</th>\n",
       "      <th>Count</th>\n",
       "      <th>Grouped</th>\n",
       "    </tr>\n",
       "  </thead>\n",
       "  <tbody>\n",
       "    <tr>\n",
       "      <th>2</th>\n",
       "      <td>295667</td>\n",
       "      <td>USB-C Charging Cable</td>\n",
       "      <td>1</td>\n",
       "      <td>11.95</td>\n",
       "      <td>2019-12-12 18:21:00</td>\n",
       "      <td>277 Main St, New York City, NY 10001</td>\n",
       "      <td>Dezembro</td>\n",
       "      <td>11.95</td>\n",
       "      <td>New York City</td>\n",
       "      <td>18</td>\n",
       "      <td>21</td>\n",
       "      <td>1</td>\n",
       "      <td>USB-C Charging Cable</td>\n",
       "    </tr>\n",
       "    <tr>\n",
       "      <th>3</th>\n",
       "      <td>295668</td>\n",
       "      <td>27in FHD Monitor</td>\n",
       "      <td>1</td>\n",
       "      <td>149.99</td>\n",
       "      <td>2019-12-22 15:13:00</td>\n",
       "      <td>410 6th St, San Francisco, CA 94016</td>\n",
       "      <td>Dezembro</td>\n",
       "      <td>149.99</td>\n",
       "      <td>San Francisco</td>\n",
       "      <td>15</td>\n",
       "      <td>13</td>\n",
       "      <td>1</td>\n",
       "      <td>27in FHD Monitor</td>\n",
       "    </tr>\n",
       "    <tr>\n",
       "      <th>4</th>\n",
       "      <td>295669</td>\n",
       "      <td>USB-C Charging Cable</td>\n",
       "      <td>1</td>\n",
       "      <td>11.95</td>\n",
       "      <td>2019-12-18 12:38:00</td>\n",
       "      <td>43 Hill St, Atlanta, GA 30301</td>\n",
       "      <td>Dezembro</td>\n",
       "      <td>11.95</td>\n",
       "      <td>Atlanta</td>\n",
       "      <td>12</td>\n",
       "      <td>38</td>\n",
       "      <td>1</td>\n",
       "      <td>USB-C Charging Cable</td>\n",
       "    </tr>\n",
       "    <tr>\n",
       "      <th>9</th>\n",
       "      <td>295674</td>\n",
       "      <td>AAA Batteries (4-pack)</td>\n",
       "      <td>4</td>\n",
       "      <td>2.99</td>\n",
       "      <td>2019-12-28 11:51:00</td>\n",
       "      <td>77 7th St, Dallas, TX 75001</td>\n",
       "      <td>Dezembro</td>\n",
       "      <td>11.96</td>\n",
       "      <td>Dallas</td>\n",
       "      <td>11</td>\n",
       "      <td>51</td>\n",
       "      <td>1</td>\n",
       "      <td>AAA Batteries (4-pack)</td>\n",
       "    </tr>\n",
       "    <tr>\n",
       "      <th>11</th>\n",
       "      <td>295676</td>\n",
       "      <td>ThinkPad Laptop</td>\n",
       "      <td>1</td>\n",
       "      <td>999.99</td>\n",
       "      <td>2019-12-28 17:19:00</td>\n",
       "      <td>410 Lincoln St, Los Angeles, CA 90001</td>\n",
       "      <td>Dezembro</td>\n",
       "      <td>999.99</td>\n",
       "      <td>Los Angeles</td>\n",
       "      <td>17</td>\n",
       "      <td>19</td>\n",
       "      <td>1</td>\n",
       "      <td>ThinkPad Laptop</td>\n",
       "    </tr>\n",
       "  </tbody>\n",
       "</table>\n",
       "</div>"
      ],
      "text/plain": [
       "    ID do pedido                 Produto  Quantidade encomendada  \\\n",
       "2         295667    USB-C Charging Cable                       1   \n",
       "3         295668        27in FHD Monitor                       1   \n",
       "4         295669    USB-C Charging Cable                       1   \n",
       "9         295674  AAA Batteries (4-pack)                       4   \n",
       "11        295676         ThinkPad Laptop                       1   \n",
       "\n",
       "    Preço unitário      Data do pedido                     Endereço da compra  \\\n",
       "2            11.95 2019-12-12 18:21:00   277 Main St, New York City, NY 10001   \n",
       "3           149.99 2019-12-22 15:13:00    410 6th St, San Francisco, CA 94016   \n",
       "4            11.95 2019-12-18 12:38:00          43 Hill St, Atlanta, GA 30301   \n",
       "9             2.99 2019-12-28 11:51:00            77 7th St, Dallas, TX 75001   \n",
       "11          999.99 2019-12-28 17:19:00  410 Lincoln St, Los Angeles, CA 90001   \n",
       "\n",
       "         Mês  Vendas          Cidade  Hora  Minuto  Count  \\\n",
       "2   Dezembro   11.95   New York City    18      21      1   \n",
       "3   Dezembro  149.99   San Francisco    15      13      1   \n",
       "4   Dezembro   11.95         Atlanta    12      38      1   \n",
       "9   Dezembro   11.96          Dallas    11      51      1   \n",
       "11  Dezembro  999.99     Los Angeles    17      19      1   \n",
       "\n",
       "                   Grouped  \n",
       "2     USB-C Charging Cable  \n",
       "3         27in FHD Monitor  \n",
       "4     USB-C Charging Cable  \n",
       "9   AAA Batteries (4-pack)  \n",
       "11         ThinkPad Laptop  "
      ]
     },
     "execution_count": 18,
     "metadata": {},
     "output_type": "execute_result"
    }
   ],
   "source": [
    "dfgroup = df[df['Data do pedido'].duplicated(keep=False)].copy()\n",
    "dfgroup['Grouped'] = dfgroup.groupby('ID do pedido')['Produto'].transform(lambda x: ','.join(x))\n",
    "dfgroup.head()\n"
   ]
  },
  {
   "cell_type": "code",
   "execution_count": 19,
   "id": "ddab27c2",
   "metadata": {},
   "outputs": [
    {
     "name": "stdout",
     "output_type": "stream",
     "text": [
      "('iPhone', 'Lightning Charging Cable') 2140\n",
      "('Google Phone', 'USB-C Charging Cable') 2116\n",
      "('iPhone', 'Wired Headphones') 987\n",
      "('Google Phone', 'Wired Headphones') 949\n",
      "('iPhone', 'Apple Airpods Headphones') 799\n",
      "('Vareebadd Phone', 'USB-C Charging Cable') 773\n",
      "('Google Phone', 'Bose SoundSport Headphones') 503\n",
      "('USB-C Charging Cable', 'Wired Headphones') 452\n",
      "('Vareebadd Phone', 'Wired Headphones') 327\n",
      "('Lightning Charging Cable', 'Wired Headphones') 253\n"
     ]
    }
   ],
   "source": [
    "# Importando funções das bibliotecas itertools e collections para identificarmos quais produtos são vendidos\n",
    "# simultaneamente com mais frequência.\n",
    "from itertools import combinations\n",
    "from collections import Counter\n",
    "\n",
    "count = Counter()\n",
    "\n",
    "for row in dfgroup['Grouped']:\n",
    "    row_list = row.split(',')\n",
    "    count.update(Counter(combinations(row_list, 2)))\n",
    "\n",
    "for key,value in count.most_common(10):\n",
    "    print(key,value)\n"
   ]
  },
  {
   "cell_type": "code",
   "execution_count": 20,
   "id": "43488b85",
   "metadata": {},
   "outputs": [
    {
     "data": {
      "text/html": [
       "<div>\n",
       "<style scoped>\n",
       "    .dataframe tbody tr th:only-of-type {\n",
       "        vertical-align: middle;\n",
       "    }\n",
       "\n",
       "    .dataframe tbody tr th {\n",
       "        vertical-align: top;\n",
       "    }\n",
       "\n",
       "    .dataframe thead th {\n",
       "        text-align: right;\n",
       "    }\n",
       "</style>\n",
       "<table border=\"1\" class=\"dataframe\">\n",
       "  <thead>\n",
       "    <tr style=\"text-align: right;\">\n",
       "      <th></th>\n",
       "      <th>Produtos combinados</th>\n",
       "      <th>Quantidade</th>\n",
       "    </tr>\n",
       "  </thead>\n",
       "  <tbody>\n",
       "    <tr>\n",
       "      <th>1</th>\n",
       "      <td>(iPhone, Lightning Charging Cable)</td>\n",
       "      <td>2140</td>\n",
       "    </tr>\n",
       "    <tr>\n",
       "      <th>2</th>\n",
       "      <td>(Google Phone, USB-C Charging Cable)</td>\n",
       "      <td>2116</td>\n",
       "    </tr>\n",
       "    <tr>\n",
       "      <th>3</th>\n",
       "      <td>(iPhone, Wired Headphones)</td>\n",
       "      <td>987</td>\n",
       "    </tr>\n",
       "    <tr>\n",
       "      <th>4</th>\n",
       "      <td>(Google Phone, Wired Headphones)</td>\n",
       "      <td>949</td>\n",
       "    </tr>\n",
       "    <tr>\n",
       "      <th>5</th>\n",
       "      <td>(iPhone, Apple Airpods Headphones)</td>\n",
       "      <td>799</td>\n",
       "    </tr>\n",
       "    <tr>\n",
       "      <th>6</th>\n",
       "      <td>(Vareebadd Phone, USB-C Charging Cable)</td>\n",
       "      <td>773</td>\n",
       "    </tr>\n",
       "    <tr>\n",
       "      <th>7</th>\n",
       "      <td>(Google Phone, Bose SoundSport Headphones)</td>\n",
       "      <td>503</td>\n",
       "    </tr>\n",
       "    <tr>\n",
       "      <th>8</th>\n",
       "      <td>(USB-C Charging Cable, Wired Headphones)</td>\n",
       "      <td>452</td>\n",
       "    </tr>\n",
       "    <tr>\n",
       "      <th>9</th>\n",
       "      <td>(Vareebadd Phone, Wired Headphones)</td>\n",
       "      <td>327</td>\n",
       "    </tr>\n",
       "    <tr>\n",
       "      <th>10</th>\n",
       "      <td>(Lightning Charging Cable, Wired Headphones)</td>\n",
       "      <td>253</td>\n",
       "    </tr>\n",
       "  </tbody>\n",
       "</table>\n",
       "</div>"
      ],
      "text/plain": [
       "                             Produtos combinados  Quantidade\n",
       "1             (iPhone, Lightning Charging Cable)        2140\n",
       "2           (Google Phone, USB-C Charging Cable)        2116\n",
       "3                     (iPhone, Wired Headphones)         987\n",
       "4               (Google Phone, Wired Headphones)         949\n",
       "5             (iPhone, Apple Airpods Headphones)         799\n",
       "6        (Vareebadd Phone, USB-C Charging Cable)         773\n",
       "7     (Google Phone, Bose SoundSport Headphones)         503\n",
       "8       (USB-C Charging Cable, Wired Headphones)         452\n",
       "9            (Vareebadd Phone, Wired Headphones)         327\n",
       "10  (Lightning Charging Cable, Wired Headphones)         253"
      ]
     },
     "execution_count": 20,
     "metadata": {},
     "output_type": "execute_result"
    }
   ],
   "source": [
    "# Transformando a lista em uma tabela\n",
    "cp = count.most_common(10)\n",
    "cpdf = pd.DataFrame(cp, columns=['Produtos combinados', 'Quantidade'])\n",
    "cpdf.index += 1\n",
    "cpdf\n",
    "\n"
   ]
  },
  {
   "cell_type": "markdown",
   "id": "dd15fdeb",
   "metadata": {},
   "source": [
    "##### Na tabela acima, podemos ver os 10 produtos combinados mais vendidos, sendo o Iphone junto ao Lightining Charging Cable(Carregador), os mais vendidos."
   ]
  },
  {
   "cell_type": "markdown",
   "id": "2d688d5e",
   "metadata": {},
   "source": [
    "### Pergunta 5: Qual produto vendeu mais? Por que você acha que vendeu mais?"
   ]
  },
  {
   "cell_type": "code",
   "execution_count": 21,
   "id": "84dc22b6",
   "metadata": {},
   "outputs": [
    {
     "data": {
      "text/plain": [
       "Text(0.5, 1.0, 'Quantidade de vendas por produto')"
      ]
     },
     "execution_count": 21,
     "metadata": {},
     "output_type": "execute_result"
    },
    {
     "data": {
      "image/png": "[encoded data removed]",
      "text/plain": [
       "<Figure size 640x480 with 1 Axes>"
      ]
     },
     "metadata": {},
     "output_type": "display_data"
    }
   ],
   "source": [
    "# Agrupando a quantidade de vezes total que cada produto foi vendido durante o ano e exibindo em um gráfico de barras\n",
    "prod = df.groupby('Produto')['Quantidade encomendada'].sum()\n",
    "prod.sort_values(ascending=False, inplace=True)\n",
    "prod.plot(kind='barh', color='red')\n",
    "plt.title('Quantidade de vendas por produto')"
   ]
  },
  {
   "cell_type": "markdown",
   "id": "2349e7b4",
   "metadata": {},
   "source": [
    "##### O produto mais vendido foi AAA Batteries (4-pack)."
   ]
  },
  {
   "cell_type": "code",
   "execution_count": 22,
   "id": "7b2be384",
   "metadata": {},
   "outputs": [
    {
     "data": {
      "text/html": [
       "<div>\n",
       "<style scoped>\n",
       "    .dataframe tbody tr th:only-of-type {\n",
       "        vertical-align: middle;\n",
       "    }\n",
       "\n",
       "    .dataframe tbody tr th {\n",
       "        vertical-align: top;\n",
       "    }\n",
       "\n",
       "    .dataframe thead th {\n",
       "        text-align: right;\n",
       "    }\n",
       "</style>\n",
       "<table border=\"1\" class=\"dataframe\">\n",
       "  <thead>\n",
       "    <tr style=\"text-align: right;\">\n",
       "      <th></th>\n",
       "      <th>Produto</th>\n",
       "      <th>Preço unitário</th>\n",
       "    </tr>\n",
       "  </thead>\n",
       "  <tbody>\n",
       "    <tr>\n",
       "      <th>0</th>\n",
       "      <td>AAA Batteries (4-pack)</td>\n",
       "      <td>2.99</td>\n",
       "    </tr>\n",
       "    <tr>\n",
       "      <th>1</th>\n",
       "      <td>AA Batteries (4-pack)</td>\n",
       "      <td>3.84</td>\n",
       "    </tr>\n",
       "    <tr>\n",
       "      <th>2</th>\n",
       "      <td>USB-C Charging Cable</td>\n",
       "      <td>11.95</td>\n",
       "    </tr>\n",
       "    <tr>\n",
       "      <th>3</th>\n",
       "      <td>Wired Headphones</td>\n",
       "      <td>11.99</td>\n",
       "    </tr>\n",
       "    <tr>\n",
       "      <th>4</th>\n",
       "      <td>Lightning Charging Cable</td>\n",
       "      <td>14.95</td>\n",
       "    </tr>\n",
       "  </tbody>\n",
       "</table>\n",
       "</div>"
      ],
      "text/plain": [
       "                    Produto  Preço unitário\n",
       "0    AAA Batteries (4-pack)            2.99\n",
       "1     AA Batteries (4-pack)            3.84\n",
       "2      USB-C Charging Cable           11.95\n",
       "3          Wired Headphones           11.99\n",
       "4  Lightning Charging Cable           14.95"
      ]
     },
     "execution_count": 22,
     "metadata": {},
     "output_type": "execute_result"
    }
   ],
   "source": [
    "price = df[['Produto', 'Preço unitário']]\n",
    "price.drop_duplicates().sort_values(by='Preço unitário').reset_index(drop=True).head()"
   ]
  },
  {
   "cell_type": "code",
   "execution_count": 23,
   "id": "a05bd7c7",
   "metadata": {},
   "outputs": [
    {
     "data": {
      "text/html": [
       "<div>\n",
       "<style scoped>\n",
       "    .dataframe tbody tr th:only-of-type {\n",
       "        vertical-align: middle;\n",
       "    }\n",
       "\n",
       "    .dataframe tbody tr th {\n",
       "        vertical-align: top;\n",
       "    }\n",
       "\n",
       "    .dataframe thead th {\n",
       "        text-align: right;\n",
       "    }\n",
       "</style>\n",
       "<table border=\"1\" class=\"dataframe\">\n",
       "  <thead>\n",
       "    <tr style=\"text-align: right;\">\n",
       "      <th></th>\n",
       "      <th>Produto</th>\n",
       "      <th>Quantidade encomendada</th>\n",
       "      <th>Preço unitário</th>\n",
       "    </tr>\n",
       "  </thead>\n",
       "  <tbody>\n",
       "    <tr>\n",
       "      <th>0</th>\n",
       "      <td>AAA Batteries (4-pack)</td>\n",
       "      <td>31017</td>\n",
       "      <td>2.99</td>\n",
       "    </tr>\n",
       "    <tr>\n",
       "      <th>1</th>\n",
       "      <td>AA Batteries (4-pack)</td>\n",
       "      <td>27635</td>\n",
       "      <td>3.84</td>\n",
       "    </tr>\n",
       "    <tr>\n",
       "      <th>2</th>\n",
       "      <td>USB-C Charging Cable</td>\n",
       "      <td>23975</td>\n",
       "      <td>11.95</td>\n",
       "    </tr>\n",
       "    <tr>\n",
       "      <th>3</th>\n",
       "      <td>Lightning Charging Cable</td>\n",
       "      <td>23217</td>\n",
       "      <td>14.95</td>\n",
       "    </tr>\n",
       "    <tr>\n",
       "      <th>4</th>\n",
       "      <td>Wired Headphones</td>\n",
       "      <td>20557</td>\n",
       "      <td>11.99</td>\n",
       "    </tr>\n",
       "    <tr>\n",
       "      <th>5</th>\n",
       "      <td>Apple Airpods Headphones</td>\n",
       "      <td>15661</td>\n",
       "      <td>150.00</td>\n",
       "    </tr>\n",
       "    <tr>\n",
       "      <th>6</th>\n",
       "      <td>Bose SoundSport Headphones</td>\n",
       "      <td>13457</td>\n",
       "      <td>99.99</td>\n",
       "    </tr>\n",
       "    <tr>\n",
       "      <th>7</th>\n",
       "      <td>27in FHD Monitor</td>\n",
       "      <td>7550</td>\n",
       "      <td>149.99</td>\n",
       "    </tr>\n",
       "    <tr>\n",
       "      <th>8</th>\n",
       "      <td>iPhone</td>\n",
       "      <td>6849</td>\n",
       "      <td>700.00</td>\n",
       "    </tr>\n",
       "    <tr>\n",
       "      <th>9</th>\n",
       "      <td>27in 4K Gaming Monitor</td>\n",
       "      <td>6244</td>\n",
       "      <td>389.99</td>\n",
       "    </tr>\n",
       "    <tr>\n",
       "      <th>10</th>\n",
       "      <td>34in Ultrawide Monitor</td>\n",
       "      <td>6199</td>\n",
       "      <td>379.99</td>\n",
       "    </tr>\n",
       "    <tr>\n",
       "      <th>11</th>\n",
       "      <td>Google Phone</td>\n",
       "      <td>5532</td>\n",
       "      <td>600.00</td>\n",
       "    </tr>\n",
       "    <tr>\n",
       "      <th>12</th>\n",
       "      <td>Flatscreen TV</td>\n",
       "      <td>4819</td>\n",
       "      <td>300.00</td>\n",
       "    </tr>\n",
       "    <tr>\n",
       "      <th>13</th>\n",
       "      <td>Macbook Pro Laptop</td>\n",
       "      <td>4728</td>\n",
       "      <td>1700.00</td>\n",
       "    </tr>\n",
       "    <tr>\n",
       "      <th>14</th>\n",
       "      <td>ThinkPad Laptop</td>\n",
       "      <td>4130</td>\n",
       "      <td>999.99</td>\n",
       "    </tr>\n",
       "    <tr>\n",
       "      <th>15</th>\n",
       "      <td>20in Monitor</td>\n",
       "      <td>4129</td>\n",
       "      <td>109.99</td>\n",
       "    </tr>\n",
       "    <tr>\n",
       "      <th>16</th>\n",
       "      <td>Vareebadd Phone</td>\n",
       "      <td>2068</td>\n",
       "      <td>400.00</td>\n",
       "    </tr>\n",
       "    <tr>\n",
       "      <th>17</th>\n",
       "      <td>LG Washing Machine</td>\n",
       "      <td>666</td>\n",
       "      <td>600.00</td>\n",
       "    </tr>\n",
       "    <tr>\n",
       "      <th>18</th>\n",
       "      <td>LG Dryer</td>\n",
       "      <td>646</td>\n",
       "      <td>600.00</td>\n",
       "    </tr>\n",
       "  </tbody>\n",
       "</table>\n",
       "</div>"
      ],
      "text/plain": [
       "                       Produto  Quantidade encomendada  Preço unitário\n",
       "0       AAA Batteries (4-pack)                   31017            2.99\n",
       "1        AA Batteries (4-pack)                   27635            3.84\n",
       "2         USB-C Charging Cable                   23975           11.95\n",
       "3     Lightning Charging Cable                   23217           14.95\n",
       "4             Wired Headphones                   20557           11.99\n",
       "5     Apple Airpods Headphones                   15661          150.00\n",
       "6   Bose SoundSport Headphones                   13457           99.99\n",
       "7             27in FHD Monitor                    7550          149.99\n",
       "8                       iPhone                    6849          700.00\n",
       "9       27in 4K Gaming Monitor                    6244          389.99\n",
       "10      34in Ultrawide Monitor                    6199          379.99\n",
       "11                Google Phone                    5532          600.00\n",
       "12               Flatscreen TV                    4819          300.00\n",
       "13          Macbook Pro Laptop                    4728         1700.00\n",
       "14             ThinkPad Laptop                    4130          999.99\n",
       "15                20in Monitor                    4129          109.99\n",
       "16             Vareebadd Phone                    2068          400.00\n",
       "17          LG Washing Machine                     666          600.00\n",
       "18                    LG Dryer                     646          600.00"
      ]
     },
     "execution_count": 23,
     "metadata": {},
     "output_type": "execute_result"
    }
   ],
   "source": [
    "# Montando uma tabela onde exiba o nome do produto, quantas vezes foram vendidos e seu preço unitário\n",
    "dfprice = pd.merge(prod, price, on=\"Produto\")\n",
    "dfprice.drop_duplicates().reset_index(drop=True)"
   ]
  },
  {
   "cell_type": "code",
   "execution_count": 24,
   "id": "a7e60f73",
   "metadata": {},
   "outputs": [
    {
     "data": {
      "text/plain": [
       "[Text(0.5, 1.0, 'Relação entre a quantidade de vendas de um produto e seu preço individual')]"
      ]
     },
     "execution_count": 24,
     "metadata": {},
     "output_type": "execute_result"
    },
    {
     "data": {
      "image/png": "[encoded data removed]",
      "text/plain": [
       "<Figure size 640x480 with 1 Axes>"
      ]
     },
     "metadata": {},
     "output_type": "display_data"
    }
   ],
   "source": [
    "sns.scatterplot(y='Quantidade encomendada', x='Preço unitário', data=dfprice, color= 'blue') \\\n",
    "                .set(title='Relação entre a quantidade de vendas de um produto e seu preço individual')\n",
    "                "
   ]
  },
  {
   "cell_type": "markdown",
   "id": "9be32c2a",
   "metadata": {},
   "source": [
    "##### Olhando o gráfico, percebe-se que há uma notável correlação entre a quantidade de vendas de um produto e seu preço, onde reparamos uma tendência de quanto mais barato o produto, mais ele será vendido. "
   ]
  },
  {
   "cell_type": "markdown",
   "id": "547a51bd",
   "metadata": {},
   "source": [
    "##### *Lembrando que o produto ser o mais vendido, não necessariamente, significa que ele foi o mais lucrativo.*"
   ]
  },
  {
   "cell_type": "code",
   "execution_count": null,
   "id": "454b377c",
   "metadata": {},
   "outputs": [],
   "source": []
  }
 ],
 "metadata": {
  "kernelspec": {
   "display_name": "Python 3 (ipykernel)",
   "language": "python",
   "name": "python3"
  },
  "language_info": {
   "codemirror_mode": {
    "name": "ipython",
    "version": 3
   },
   "file_extension": ".py",
   "mimetype": "text/x-python",
   "name": "python",
   "nbconvert_exporter": "python",
   "pygments_lexer": "ipython3",
   "version": "3.10.9"
  }
 },
 "nbformat": 4,
 "nbformat_minor": 5
}
